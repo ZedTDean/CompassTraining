{
 "cells": [
  {
   "cell_type": "markdown",
   "id": "2df2d4bb",
   "metadata": {},
   "source": [
    "# Using Remote Services ( Command line ) \n",
    "You can access and use your cluster from the command-line tools, from the Web User Interface of the Cluster Manager, or from any of our programming language APIs. With only a few exceptions, the feature was designed to be transparent to both the developers and the users of programs that use it. In this section, we will review the common client configuration properties, and then we will explain the most important commands that you can run from the command line: job commands, batch commands, repository commands, and node commands. Some commands may be restricted to the administrator role, and others may be supported only if the Cluster Manager was installed. For a complete list of commands, please refer to the command line tool help grbcluster --help. Finally, we will describe how the commands can be applied to execute distributed algorithms. We will discuss later how to program with Remote Services."
   ]
  },
  {
   "cell_type": "code",
   "execution_count": 1,
   "id": "3db644a0",
   "metadata": {},
   "outputs": [
    {
     "name": "stderr",
     "output_type": "stream",
     "text": [
      "'export' is not recognized as an internal or external command,\n",
      "operable program or batch file.\n",
      "'OLDPATH' is not recognized as an internal or external command,\n",
      "operable program or batch file.\n",
      "'%env' is not recognized as an internal or external command,\n",
      "operable program or batch file.\n"
     ]
    }
   ],
   "source": [
    "# Setup try.gurobi.com\n",
    "! export GRB_LICENSE_FILE=\"$HOME\"\n",
    "!  OLDPATH=%env PATH\n",
    "! %env PATH=$OLDPATH:/opt/miniconda3/bin/"
   ]
  },
  {
   "cell_type": "code",
   "execution_count": 11,
   "id": "69be7195",
   "metadata": {},
   "outputs": [
    {
     "name": "stdout",
     "output_type": "stream",
     "text": [
      "Cloning into 'CompassTraining'...\n",
      "remote: Enumerating objects: 50, done.\u001b[K\n",
      "remote: Counting objects: 100% (50/50), done.\u001b[K\n",
      "remote: Compressing objects: 100% (39/39), done.\u001b[K\n",
      "remote: Total 50 (delta 16), reused 39 (delta 9), pack-reused 0\u001b[K\n",
      "Unpacking objects: 100% (50/50), done.\n"
     ]
    }
   ],
   "source": []
  },
  {
   "cell_type": "code",
   "execution_count": 2,
   "id": "f4ee92c8",
   "metadata": {
    "collapsed": true
   },
   "outputs": [
    {
     "name": "stdout",
     "output_type": "stream",
     "text": [
      "Gurobi Compute Server command-line tool version 10.0.0, build v10.0.0rc2\r\n",
      "Copyright (c) 2022, Gurobi Optimization, LLC\r\n",
      "\r\n",
      "Usage:\r\n",
      "  grbcluster --help                Display usage\r\n",
      "  grbcluster command [flags]       Execute a top-level command\r\n",
      "  grbcluster command --help        Display help about a top-level command\r\n",
      "  grbcluster group command [flags] Execute a command from a group\r\n",
      "  grbcluster group command --help  Display help about a command\r\n",
      "                                   from a group\r\n",
      "\r\n",
      "Flags can be set using --flag=value or the short form -f=value if defined.\r\n",
      "A boolean flag can be enabled using --flag or the short form -f if defined.\r\n",
      "\r\n",
      "As a first step, the login command must be executed to set the connection \r\n",
      "parameters and save them into your client license file. You can list all the \r\n",
      "options by getting the help for this command:\r\n",
      "  grbcluster login --help\r\n",
      "\r\n",
      "Some commands or group of commands may only be used with a Cluster Manager,\r\n",
      "and will be denoted with an asterisk (*).\r\n",
      "\r\n",
      "Command Groups:\r\n",
      "  apikey*      Manage API keys\r\n",
      "  batch*       Submit, list and manage batches\r\n",
      "  job          Monitor and manage the optimization jobs\r\n",
      "  node         Monitor and manage cluster nodes\r\n",
      "  profile*     Display or manage your profile\r\n",
      "  repo*        Manage the artifact repository\r\n",
      "  user*        Manage users\r\n",
      "For each group, type 'grbcluster group --help' for more options.\r\n",
      "\r\n",
      "Account Commands:\r\n",
      "  login        Setup connection parameters\r\n",
      "  logout       Clear out connection session\r\n",
      "  passwd*      Change password of the current user\r\n",
      "\r\n",
      "Shortcut Commands:\r\n",
      "  batches*     List the active batches (same as 'batch list')\r\n",
      "  jobs         List the active jobs (same as 'job list')\r\n",
      "  nodes        List the cluster nodes (same as 'node list')\r\n",
      "\r\n",
      "\r\n",
      "Global Flags:\r\n",
      "      --console-ts   Add timestamps to console log messages\r\n",
      "      --help         Display usage\r\n",
      "  -v, --verbose      Enable verbose logging\r\n",
      "      --version      Display version information\r\n",
      "\r\n",
      "If a valid Gurobi license file is accessible at the predefined locations or\r\n",
      "using the variable GRB_LICENSE_FILE, the license file will provide default\r\n",
      "values for connection parameters (server, password, router etc). If the\r\n",
      "license file references a Gurobi Instant Cloud pool, it will resolve the\r\n",
      "connection parameters of the pool. When using the login command, the\r\n",
      "connection parameters will be saved to this client license file.\r\n",
      "\r\n",
      "grbcluster is compatible with standard proxy settings using environment\r\n",
      "variables HTTP_PROXY and HTTPS_PROXY. HTTPS_PROXY takes precedence over\r\n",
      "HTTP_PROXY for https requests. The values may be either a complete URL or\r\n",
      "a \"host[:port]\", in which case the \"http\" scheme is assumed.\r\n"
     ]
    }
   ],
   "source": [
    "!grbcluster --help"
   ]
  },
  {
   "cell_type": "markdown",
   "id": "5c8016cc",
   "metadata": {},
   "source": [
    "##  License Configuration\n",
    "In this section, we assume that you already have installed the Gurobi Optimizer package on your\n",
    "client machine. After this, you will need to understand the role of the client license file and how\n",
    "grbcluster can help in generating it. Finally, we will review the load balancing and priority\n",
    "management that can be controlled with some of the configuration properties."
   ]
  },
  {
   "cell_type": "code",
   "execution_count": 4,
   "id": "eef27dd1",
   "metadata": {},
   "outputs": [
    {
     "name": "stdout",
     "output_type": "stream",
     "text": [
      "info  : Using client license file '/home/jupyter-test/gurobi.lic'\n",
      "info  : User dean connected to https://demos-manager.gurobi.com\n"
     ]
    }
   ],
   "source": [
    "!grbcluster login --manager=https://demos-manager.gurobi.com --access=e41c4ff4-4322-4218-a52b-f82047083523 --secret=e62cc65e-2b26-4726-8a2a-2a2fe77157ec"
   ]
  },
  {
   "cell_type": "code",
   "execution_count": 8,
   "id": "bc1a973c",
   "metadata": {},
   "outputs": [
    {
     "data": {
      "text/plain": [
       "'/home/jupyter-test'"
      ]
     },
     "execution_count": 8,
     "metadata": {},
     "output_type": "execute_result"
    }
   ],
   "source": [
    "pwd"
   ]
  },
  {
   "cell_type": "code",
   "execution_count": 6,
   "id": "ff1a6f1b",
   "metadata": {},
   "outputs": [
    {
     "name": "stdout",
     "output_type": "stream",
     "text": [
      "CSAPIACCESSID=e41c4ff4-4322-4218-a52b-f82047083523\r\n",
      "CSAPISECRET=e62cc65e-2b26-4726-8a2a-2a2fe77157ec\r\n",
      "CSMANAGER=https://demos-manager.gurobi.com\r\n"
     ]
    }
   ],
   "source": [
    "cat /home/jupyter-test/gurobi.lic"
   ]
  },
  {
   "cell_type": "markdown",
   "id": "75150522",
   "metadata": {},
   "source": [
    "## Job Commands\n",
    "In this section, we will review the most important commands to manage your jobs."
   ]
  },
  {
   "cell_type": "markdown",
   "id": "89504dac",
   "metadata": {},
   "source": [
    "### Submitting Interactive Jobs\n",
    "The Gurobi command-line tool gurobi_cl can be used to submit optimization jobs. Once you\n",
    "have successfully executed the grbcluster login command, you can then submit a job using\n",
    "gurobi_cl\n"
   ]
  },
  {
   "cell_type": "code",
   "execution_count": 14,
   "id": "a0ba534f",
   "metadata": {
    "collapsed": true
   },
   "outputs": [
    {
     "name": "stdout",
     "output_type": "stream",
     "text": [
      "Set parameter CSManager to value \"https://demos-manager.gurobi.com\"\n",
      "Set parameter CSAPIAccessID\n",
      "Set parameter CSAPISecret\n",
      "Set parameter LogFile to value \"gurobi.log\"\n",
      "Compute Server job ID: bfb1e439-205f-417c-a4d1-e54ad7986a8f\n",
      "Capacity available on '192.168.60.154:61000' - connecting...\n",
      "Established HTTPS encrypted connection\n",
      "Using license file /home/jupyter-test/gurobi.lic\n",
      "\n",
      "Gurobi Optimizer version 10.0.0 build v10.0.0rc2 (linux64)\n",
      "Copyright (c) 2022, Gurobi Optimization, LLC\n",
      "\n",
      "Read MPS format model from file /home/jupyter-test/CompassTraining/grb_rs/p0033.mps\n",
      "Reading time = 0.02 seconds\n",
      "P0033: 16 rows, 33 columns, 98 nonzeros\n",
      "Gurobi Compute Server Worker version 10.0.0 build v10.0.0rc2 (linux64)\n",
      "\n",
      "CPU model: Intel(R) Xeon(R) Platinum 8275CL CPU @ 3.00GHz, instruction set [SSE2|AVX|AVX2|AVX512]\n",
      "Thread count: 8 physical cores, 16 logical processors, using up to 16 threads\n",
      "\n",
      "Optimize a model with 16 rows, 33 columns and 98 nonzeros\n",
      "Model fingerprint: 0x1785c1bd\n",
      "Variable types: 0 continuous, 33 integer (0 binary)\n",
      "Coefficient statistics:\n",
      "  Matrix range     [1e+00, 4e+02]\n",
      "  Objective range  [5e+01, 5e+02]\n",
      "  Bounds range     [1e+00, 1e+00]\n",
      "  RHS range        [1e+00, 3e+03]\n",
      "Found heuristic solution: objective 3828.0000000\n",
      "Presolve removed 5 rows and 14 columns\n",
      "Presolve time: 0.00s\n",
      "Presolved: 11 rows, 19 columns, 71 nonzeros\n",
      "Found heuristic solution: objective 3089.0000000\n",
      "Variable types: 0 continuous, 19 integer (16 binary)\n",
      "\n",
      "Root relaxation: objective 2.839492e+03, 10 iterations, 0.00 seconds (0.00 work units)\n",
      "\n",
      "    Nodes    |    Current Node    |     Objective Bounds      |     Work\n",
      " Expl Unexpl |  Obj  Depth IntInf | Incumbent    BestBd   Gap | It/Node Time\n",
      "\n",
      "     0     0 2839.49184    0    3 3089.00000 2839.49184  8.08%     -    0s\n",
      "     0     0 2941.40000    0    1 3089.00000 2941.40000  4.78%     -    0s\n",
      "     0     0 2953.32500    0    1 3089.00000 2953.32500  4.39%     -    0s\n",
      "     0     0 3045.27500    0    5 3089.00000 3045.27500  1.42%     -    0s\n",
      "     0     0 3089.00000    0    3 3089.00000 3089.00000  0.00%     -    0s\n",
      "\n",
      "Cutting planes:\n",
      "  Learned: 1\n",
      "  Gomory: 2\n",
      "  MIR: 1\n",
      "\n",
      "Explored 1 nodes (28 simplex iterations) in 0.01 seconds (0.00 work units)\n",
      "Thread count was 16 (of 16 available processors)\n",
      "\n",
      "Solution count 2: 3089 3828 \n",
      "\n",
      "Optimal solution found (tolerance 1.00e-04)\n",
      "Best objective 3.089000000000e+03, best bound 3.089000000000e+03, gap 0.0000%\n",
      "\n",
      "Wrote result file 'solution.sol'\n",
      "\n",
      "\n",
      "Compute Server communication statistics:\n",
      "  Sent: 0.002 MB in 9 msgs and 0.08s (0.03 MB/s)\n",
      "  Received: 0.008 MB in 6 msgs and 0.09s (0.10 MB/s)\n",
      "\n"
     ]
    }
   ],
   "source": [
    "!gurobi_cl ResultFile=solution.sol p0033.mps"
   ]
  },
  {
   "cell_type": "code",
   "execution_count": 15,
   "id": "42aff569",
   "metadata": {
    "collapsed": true
   },
   "outputs": [
    {
     "name": "stdout",
     "output_type": "stream",
     "text": [
      "# Solution for model P0033\r\n",
      "# Objective value = 3089\r\n",
      "C157 1\r\n",
      "C158 0\r\n",
      "C159 0\r\n",
      "C160 0\r\n",
      "C161 0\r\n",
      "C162 0\r\n",
      "C163 1\r\n",
      "C164 1\r\n",
      "C165 0\r\n",
      "C166 1\r\n",
      "C167 0\r\n",
      "C168 0\r\n",
      "C169 0\r\n",
      "C170 1\r\n",
      "C171 0\r\n",
      "C172 0\r\n",
      "C173 0\r\n",
      "C174 1\r\n",
      "C175 0\r\n",
      "C176 0\r\n",
      "C177 1\r\n",
      "C178 1\r\n",
      "C179 0\r\n",
      "C180 1\r\n",
      "C181 1\r\n",
      "C182 1\r\n",
      "C183 1\r\n",
      "C184 1\r\n",
      "C185 1\r\n",
      "C186 1\r\n",
      "C187 0\r\n",
      "C188 0\r\n",
      "C189 0\r\n"
     ]
    }
   ],
   "source": [
    "cat solution.sol"
   ]
  },
  {
   "cell_type": "markdown",
   "id": "baa34b6a",
   "metadata": {},
   "source": [
    "### Listing Jobs\n"
   ]
  },
  {
   "cell_type": "code",
   "execution_count": 18,
   "id": "4125b22c",
   "metadata": {},
   "outputs": [
    {
     "name": "stdout",
     "output_type": "stream",
     "text": [
      "JOBID    BATCHID  ADDRESS              STATUS  #Q  STIME               USER PRIO API       \r\n",
      "2ad9f176 1a3fec81 192.168.60.154:61000 RUNNING     2023-01-29 15:17:40 dean 0    grbrsm_ui \r\n"
     ]
    }
   ],
   "source": [
    "!grbcluster jobs"
   ]
  },
  {
   "cell_type": "code",
   "execution_count": 35,
   "id": "8f596b49",
   "metadata": {
    "collapsed": true
   },
   "outputs": [
    {
     "name": "stdout",
     "output_type": "stream",
     "text": [
      "JOBID    BATCHID  ADDRESS              STATUS    STIME               USER APP                OPT     API       \r\n",
      "8f9e8af8          192.168.3.117:61000  COMPLETED 2023-01-29 15:31:18 oad  burrito-game       OPTIMAL Python    \r\n",
      "2ad9f176 1a3fec81 192.168.60.154:61000 COMPLETED 2023-01-29 15:30:20 dean                    OPTIMAL grbrsm_ui \r\n",
      "6a21da87          192.168.3.117:61000  COMPLETED 2023-01-29 15:30:12 oad  burrito-game       OPTIMAL Python    \r\n",
      "3cc08ee6          192.168.3.117:61000  COMPLETED 2023-01-29 15:28:57 oad  burrito-game       OPTIMAL Python    \r\n",
      "bfb1e439          192.168.60.154:61000 COMPLETED 2023-01-29 15:15:22 dean                    OPTIMAL gurobi_cl \r\n",
      "4f145447          192.168.3.117:61000  COMPLETED 2023-01-29 15:15:11 dean                            gurobi_cl \r\n",
      "3d59dace          192.168.60.154:61000 COMPLETED 2023-01-29 07:41:42 oad  burrito-game       OPTIMAL Python    \r\n",
      "250eb916          192.168.3.117:61000  COMPLETED 2023-01-29 07:39:12 oad  burrito-game       OPTIMAL Python    \r\n",
      "7bdef9c0          192.168.60.154:61000 COMPLETED 2023-01-29 07:34:51 oad  burrito-game       OPTIMAL Python    \r\n",
      "c165d19c          192.168.3.117:61000  COMPLETED 2023-01-29 07:33:21 oad  burrito-game       OPTIMAL Python    \r\n",
      "da0edb37          192.168.3.117:61000  COMPLETED 2023-01-29 07:32:02 oad  burrito-game       OPTIMAL Python    \r\n",
      "7c3fa0e3          192.168.3.117:61000  COMPLETED 2023-01-29 07:30:26 oad  burrito-game       OPTIMAL Python    \r\n",
      "8504eb91          192.168.3.117:61000  COMPLETED 2023-01-29 07:29:36 oad  burrito-game       OPTIMAL Python    \r\n",
      "ed8ac76d          192.168.3.117:61000  COMPLETED 2023-01-29 07:27:52 oad  burrito-game       OPTIMAL Python    \r\n",
      "c5efd41e          192.168.3.117:61000  COMPLETED 2023-01-29 05:38:06 oad  burrito-game       OPTIMAL Python    \r\n",
      "e6eda5f1          192.168.60.154:61000 COMPLETED 2023-01-29 05:36:19 oad  burrito-game       OPTIMAL Python    \r\n",
      "8918ce23          192.168.60.154:61000 COMPLETED 2023-01-29 05:32:31 oad  burrito-game       OPTIMAL Python    \r\n",
      "93a2f783          192.168.60.154:61000 COMPLETED 2023-01-29 05:27:14 oad  burrito-game       OPTIMAL Python    \r\n",
      "48a28c81          192.168.60.154:61000 COMPLETED 2023-01-29 05:16:20 oad  burrito-game       OPTIMAL Python    \r\n",
      "70bc672b          192.168.60.154:61000 COMPLETED 2023-01-29 05:10:05 oad  burrito-game       OPTIMAL Python    \r\n",
      "c694c3a9          192.168.3.117:61000  COMPLETED 2023-01-29 05:07:49 oad  burrito-game       OPTIMAL Python    \r\n",
      "128dcebc          192.168.3.117:61000  COMPLETED 2023-01-29 05:04:41 oad  burrito-game       OPTIMAL Python    \r\n",
      "9dc69316          192.168.60.154:61000 COMPLETED 2023-01-29 05:00:14 oad  burrito-game       OPTIMAL Python    \r\n",
      "d8312513          192.168.60.154:61000 COMPLETED 2023-01-29 04:59:03 oad  burrito-game       OPTIMAL Python    \r\n",
      "dbd3e462          192.168.60.154:61000 COMPLETED 2023-01-29 04:57:06 oad  burrito-game       OPTIMAL Python    \r\n",
      "35d256eb          192.168.3.117:61000  COMPLETED 2023-01-29 04:53:55 oad  burrito-game       OPTIMAL Python    \r\n",
      "39ce6ff3          192.168.3.117:61000  COMPLETED 2023-01-29 02:12:02 oad  burrito-game       OPTIMAL Python    \r\n",
      "85b33954          192.168.3.117:61000  COMPLETED 2023-01-29 02:11:13 oad  burrito-game       OPTIMAL Python    \r\n",
      "ea62b9bb          192.168.3.117:61000  COMPLETED 2023-01-29 02:10:34 oad  burrito-game       OPTIMAL Python    \r\n",
      "07373597          192.168.3.117:61000  COMPLETED 2023-01-29 02:09:57 oad  burrito-game       OPTIMAL Python    \r\n",
      "ba967220          192.168.3.117:61000  COMPLETED 2023-01-29 00:08:53 oad  burrito-game       OPTIMAL Python    \r\n",
      "ad28f92d          192.168.3.117:61000  COMPLETED 2023-01-29 00:07:54 oad  burrito-game       OPTIMAL Python    \r\n",
      "e928a485          192.168.60.154:61000 COMPLETED 2023-01-29 00:06:45 oad  burrito-game       OPTIMAL Python    \r\n",
      "287a5b6d          192.168.60.154:61000 COMPLETED 2023-01-29 00:03:05 oad  burrito-game       OPTIMAL Python    \r\n",
      "e243350d          192.168.3.117:61000  COMPLETED 2023-01-29 00:01:52 oad  burrito-game       OPTIMAL Python    \r\n",
      "f01eb599          192.168.60.154:61000 COMPLETED 2023-01-29 00:00:54 oad  burrito-game       OPTIMAL Python    \r\n",
      "71e95da9          192.168.3.117:61000  COMPLETED 2023-01-29 00:00:15 oad  burrito-game       OPTIMAL Python    \r\n",
      "f8319394          192.168.3.117:61000  COMPLETED 2023-01-28 23:59:58 oad  burrito-game       OPTIMAL Python    \r\n",
      "cd62840c          192.168.60.154:61000 COMPLETED 2023-01-28 23:59:43 oad  burrito-game       OPTIMAL Python    \r\n",
      "f1236996          192.168.60.154:61000 COMPLETED 2023-01-28 23:59:32 oad  burrito-game       OPTIMAL Python    \r\n",
      "0da077de          192.168.3.117:61000  COMPLETED 2023-01-28 23:59:02 oad  burrito-game       OPTIMAL Python    \r\n",
      "3b591524          192.168.60.154:61000 COMPLETED 2023-01-28 23:58:23 oad  burrito-game       OPTIMAL Python    \r\n",
      "58967f20          192.168.3.117:61000  COMPLETED 2023-01-28 23:57:46 oad  burrito-game       OPTIMAL Python    \r\n",
      "5c2a6ced          192.168.3.117:61000  COMPLETED 2023-01-28 23:57:08 oad  burrito-game       OPTIMAL Python    \r\n",
      "2cc2ddd4          192.168.3.117:61000  COMPLETED 2023-01-28 23:56:11 oad  burrito-game       OPTIMAL Python    \r\n",
      "f93d1a5b          192.168.60.154:61000 COMPLETED 2023-01-28 23:56:11 oad  burrito-game       OPTIMAL Python    \r\n",
      "42a995e7          192.168.3.117:61000  COMPLETED 2023-01-28 23:55:56 oad  burrito-game       OPTIMAL Python    \r\n",
      "3dc9625c          192.168.3.117:61000  COMPLETED 2023-01-28 23:55:19 oad  burrito-game       OPTIMAL Python    \r\n",
      "34900cc3          192.168.60.154:61000 COMPLETED 2023-01-28 23:55:09 oad  burrito-game       OPTIMAL Python    \r\n",
      "9d9328b1          192.168.3.117:61000  COMPLETED 2023-01-28 23:53:56 oad  burrito-game       OPTIMAL Python    \r\n",
      "54fdb01c          192.168.3.117:61000  COMPLETED 2023-01-28 23:53:28 oad  burrito-game       OPTIMAL Python    \r\n",
      "6b36ca46          192.168.60.154:61000 COMPLETED 2023-01-28 23:52:57 oad  burrito-game       OPTIMAL Python    \r\n",
      "4a238138          192.168.60.154:61000 COMPLETED 2023-01-28 23:52:34 oad  burrito-game       OPTIMAL Python    \r\n",
      "7890f86d          192.168.3.117:61000  COMPLETED 2023-01-28 23:51:25 oad  burrito-game       OPTIMAL Python    \r\n",
      "6b2fcd9a          192.168.3.117:61000  COMPLETED 2023-01-28 23:51:20 oad  burrito-game       OPTIMAL Python    \r\n",
      "b67af1c8          192.168.3.117:61000  COMPLETED 2023-01-28 23:50:58 oad  burrito-game       OPTIMAL Python    \r\n",
      "48664e22          192.168.60.154:61000 COMPLETED 2023-01-28 23:49:41 oad  burrito-game       OPTIMAL Python    \r\n",
      "9732876b          192.168.60.154:61000 COMPLETED 2023-01-28 23:49:32 oad  burrito-game       OPTIMAL Python    \r\n",
      "c087984b          192.168.3.117:61000  COMPLETED 2023-01-28 23:49:28 oad  burrito-game       OPTIMAL Python    \r\n",
      "579c67b9          192.168.3.117:61000  COMPLETED 2023-01-28 23:49:26 oad  burrito-game       OPTIMAL Python    \r\n",
      "f00fe406          192.168.3.117:61000  COMPLETED 2023-01-28 23:47:59 oad  burrito-game       OPTIMAL Python    \r\n",
      "ef5a6d6c          192.168.3.117:61000  COMPLETED 2023-01-28 23:47:51 oad  burrito-game       OPTIMAL Python    \r\n",
      "722178f4          192.168.60.154:61000 COMPLETED 2023-01-28 23:47:36 oad  burrito-game       OPTIMAL Python    \r\n",
      "7af0fa99          192.168.3.117:61000  COMPLETED 2023-01-28 23:47:15 oad  burrito-game       OPTIMAL Python    \r\n",
      "1a4a6bb1          192.168.3.117:61000  COMPLETED 2023-01-28 23:46:07 oad  burrito-game       OPTIMAL Python    \r\n",
      "e22dd313          192.168.60.154:61000 COMPLETED 2023-01-28 23:43:41 oad  burrito-game       OPTIMAL Python    \r\n",
      "50b8d80a          192.168.3.117:61000  COMPLETED 2023-01-28 23:43:37 oad  burrito-game       OPTIMAL Python    \r\n",
      "6f8efc18          192.168.3.117:61000  COMPLETED 2023-01-28 23:43:34 oad  burrito-game       OPTIMAL Python    \r\n",
      "5cb95ef4          192.168.3.117:61000  COMPLETED 2023-01-28 23:43:33 oad  burrito-game       OPTIMAL Python    \r\n",
      "af28fdaf          192.168.60.154:61000 COMPLETED 2023-01-28 23:42:52 oad  burrito-game       OPTIMAL Python    \r\n",
      "8c35b8bc          192.168.60.154:61000 COMPLETED 2023-01-28 23:42:24 oad  burrito-game       OPTIMAL Python    \r\n",
      "9f9d8d61          192.168.3.117:61000  COMPLETED 2023-01-28 23:36:10 oad  burrito-game       OPTIMAL Python    \r\n",
      "12620332          192.168.60.154:61000 COMPLETED 2023-01-28 20:07:21 oad  burrito-game       OPTIMAL Python    \r\n",
      "f4b9fe8f          192.168.60.154:61000 COMPLETED 2023-01-28 20:02:29 oad  burrito-game       OPTIMAL Python    \r\n",
      "c712e212          192.168.3.117:61000  COMPLETED 2023-01-28 20:00:48 oad  burrito-game       OPTIMAL Python    \r\n",
      "9de09ca5          192.168.60.154:61000 COMPLETED 2023-01-28 11:47:01 oad  burrito-game       OPTIMAL Python    \r\n",
      "2dc8741b          192.168.60.154:61000 COMPLETED 2023-01-28 11:45:36 oad  burrito-game       OPTIMAL Python    \r\n",
      "8c13d60f          192.168.3.117:61000  COMPLETED 2023-01-28 11:43:37 oad  burrito-game       OPTIMAL Python    \r\n",
      "82be1014          192.168.3.117:61000  COMPLETED 2023-01-28 11:42:38 oad  burrito-game       OPTIMAL Python    \r\n",
      "5413f91a          192.168.60.154:61000 COMPLETED 2023-01-28 11:40:54 oad  burrito-game       OPTIMAL Python    \r\n",
      "67aacec3          192.168.3.117:61000  COMPLETED 2023-01-28 11:29:02 oad  burrito-game       OPTIMAL Python    \r\n",
      "3da8e6b3          192.168.60.154:61000 COMPLETED 2023-01-28 11:26:52 oad  burrito-game       OPTIMAL Python    \r\n",
      "007ea7be          192.168.3.117:61000  COMPLETED 2023-01-28 02:39:20 oad  burrito-game       OPTIMAL Python    \r\n",
      "65fb119a          192.168.60.154:61000 COMPLETED 2023-01-28 02:35:47 oad  burrito-game       OPTIMAL Python    \r\n",
      "2d35b412          192.168.60.154:61000 COMPLETED 2023-01-28 02:33:24 oad  burrito-game       OPTIMAL Python    \r\n",
      "75dd07b5          192.168.60.154:61000 COMPLETED 2023-01-28 02:30:19 oad  burrito-game       OPTIMAL Python    \r\n",
      "67b51b97          192.168.60.154:61000 COMPLETED 2023-01-28 02:25:09 oad  burrito-game       OPTIMAL Python    \r\n",
      "b30ad58d          192.168.60.154:61000 COMPLETED 2023-01-28 02:21:38 oad  burrito-game       OPTIMAL Python    \r\n",
      "5eb6c0ba          192.168.3.117:61000  COMPLETED 2023-01-28 02:20:39 oad  burrito-game       OPTIMAL Python    \r\n",
      "7e923480          192.168.60.154:61000 COMPLETED 2023-01-27 21:26:45 oad  burrito-game       OPTIMAL Python    \r\n",
      "42dd5474          192.168.60.154:61000 COMPLETED 2023-01-27 20:15:14 oad  burrito-game       OPTIMAL Python    \r\n",
      "10f900e0          192.168.60.154:61000 COMPLETED 2023-01-27 20:14:29 oad  burrito-game       OPTIMAL Python    \r\n",
      "ed70476c          192.168.60.154:61000 COMPLETED 2023-01-27 19:59:04 oad  burrito-game       OPTIMAL Python    \r\n",
      "4fb89977          192.168.60.154:61000 COMPLETED 2023-01-27 19:56:27 oad  burrito-game       OPTIMAL Python    \r\n",
      "eff94a3a          192.168.60.154:61000 COMPLETED 2023-01-27 19:43:52 oad  burrito-game       OPTIMAL Python    \r\n",
      "4e567c50          192.168.60.154:61000 COMPLETED 2023-01-27 19:36:38 oad  burrito-game       OPTIMAL Python    \r\n",
      "d6b0c42f          192.168.60.154:61000 COMPLETED 2023-01-27 19:32:00 oad  burrito-game       OPTIMAL Python    \r\n",
      "e1a11ef2          192.168.60.154:61000 COMPLETED 2023-01-27 18:09:53 oad  traveling-salesman OPTIMAL Python    \r\n",
      "483313a6          192.168.60.154:61000 COMPLETED 2023-01-27 15:37:58 oad  traveling-salesman OPTIMAL Python    \r\n",
      "d9fa508b          192.168.60.154:61000 COMPLETED 2023-01-27 15:37:36 oad  traveling-salesman OPTIMAL Python    \r\n"
     ]
    }
   ],
   "source": [
    "!grbcluster job recent "
   ]
  },
  {
   "cell_type": "code",
   "execution_count": 31,
   "id": "9446a953",
   "metadata": {},
   "outputs": [
    {
     "name": "stdout",
     "output_type": "stream",
     "text": [
      "info  : Found matching job bfb1e439-205f-417c-a4d1-e54ad7986a8f\n",
      "  Gomory: 2\n",
      "  MIR: 1\n",
      "\n",
      "Explored 1 nodes (28 simplex iterations) in 0.01 seconds (0.00 work units)\n",
      "Thread count was 16 (of 16 available processors)\n",
      "\n",
      "Solution count 2: 3089 3828 \n",
      "\n",
      "Optimal solution found (tolerance 1.00e-04)\n",
      "Best objective 3.089000000000e+03, best bound 3.089000000000e+03, gap 0.0000%\n"
     ]
    }
   ],
   "source": [
    "!grbcluster job log bfb1e439  --lines 10         "
   ]
  },
  {
   "cell_type": "markdown",
   "id": "df94b4a2",
   "metadata": {},
   "source": [
    "### Abort Jobs"
   ]
  },
  {
   "cell_type": "code",
   "execution_count": 36,
   "id": "1689a197",
   "metadata": {},
   "outputs": [
    {
     "name": "stdout",
     "output_type": "stream",
     "text": [
      "info  : Found matching job 2ad9f176-2e45-4bc2-ba84-04b508b77385\r\n"
     ]
    }
   ],
   "source": [
    "! grbcluster job abort 2ad9f176 "
   ]
  },
  {
   "cell_type": "markdown",
   "id": "5e4637a8",
   "metadata": {},
   "source": [
    "## Batch Commands\n",
    "In this section, we will review the most important commands available to manage batches.\n"
   ]
  },
  {
   "cell_type": "code",
   "execution_count": 48,
   "id": "6100fed6",
   "metadata": {},
   "outputs": [
    {
     "name": "stdout",
     "output_type": "stream",
     "text": [
      "info  : Batch 14a622e2-e58b-4674-bfa6-d7d06160a751 created\n",
      "info  : Uploading /home/jupyter-test/CompassTraining/grb_rs/p0033.mps...\n",
      "info  : Batch 14a622e2-e58b-4674-bfa6-d7d06160a751 submitted with job 38ba2de0-dad0-4c04-9976-dc0bc5713ba8\n"
     ]
    }
   ],
   "source": [
    "!grbcluster batch solve p0033.mps ResultFile=solutionbatch.sol"
   ]
  },
  {
   "cell_type": "code",
   "execution_count": 49,
   "id": "17b02fab",
   "metadata": {},
   "outputs": [
    {
     "name": "stdout",
     "output_type": "stream",
     "text": [
      "info  : Batch 14a622e2-e58b-4674-bfa6-d7d06160a751 status is COMPLETED\r\n"
     ]
    }
   ],
   "source": [
    "!grbcluster batch status 14a622e2-e58b-4674-bfa6-d7d06160a751 --wait"
   ]
  },
  {
   "cell_type": "code",
   "execution_count": 50,
   "id": "aa06b4ec",
   "metadata": {},
   "outputs": [
    {
     "name": "stdout",
     "output_type": "stream",
     "text": [
      "info  : Results will be stored in directory 14a622e2-e58b-4674-bfa6-d7d06160a751\r\n",
      "info  : Downloading solutionbatch.sol...\r\n",
      "info  : Downloading gurobi.log...\r\n",
      "info  : Discarding batch data\r\n"
     ]
    }
   ],
   "source": [
    "!grbcluster batch download 14a622e2-e58b-4674-bfa6-d7d06160a751"
   ]
  },
  {
   "cell_type": "code",
   "execution_count": 55,
   "id": "e5268ce1",
   "metadata": {
    "collapsed": true
   },
   "outputs": [
    {
     "name": "stdout",
     "output_type": "stream",
     "text": [
      "# Solution for model P0033\r\n",
      "# Objective value = 3089\r\n",
      "C157 1\r\n",
      "C158 0\r\n",
      "C159 0\r\n",
      "C160 0\r\n",
      "C161 0\r\n",
      "C162 0\r\n",
      "C163 1\r\n",
      "C164 1\r\n",
      "C165 0\r\n",
      "C166 1\r\n",
      "C167 0\r\n",
      "C168 0\r\n",
      "C169 0\r\n",
      "C170 1\r\n",
      "C171 0\r\n",
      "C172 0\r\n",
      "C173 0\r\n",
      "C174 1\r\n",
      "C175 0\r\n",
      "C176 0\r\n",
      "C177 1\r\n",
      "C178 1\r\n",
      "C179 0\r\n",
      "C180 1\r\n",
      "C181 1\r\n",
      "C182 1\r\n",
      "C183 1\r\n",
      "C184 1\r\n",
      "C185 1\r\n",
      "C186 1\r\n",
      "C187 0\r\n",
      "C188 0\r\n",
      "C189 0\r\n"
     ]
    }
   ],
   "source": [
    "cat ~/14a622e2-e58b-4674-bfa6-d7d06160a751/solutionbatch.sol"
   ]
  },
  {
   "cell_type": "code",
   "execution_count": 57,
   "id": "26e42dc6",
   "metadata": {},
   "outputs": [
    {
     "name": "stdout",
     "output_type": "stream",
     "text": [
      "info  : Batch 2de7bdef-30cf-417a-8dfd-3dc1fb8dc3dd created\n",
      "info  : Uploading /home/jupyter-test/CompassTraining/grb_rs/p0033.mps...\n",
      "info  : Batch 2de7bdef-30cf-417a-8dfd-3dc1fb8dc3dd submitted with job b7074196-1127-4efd-ba2c-7b04eb034d5a\n",
      "info  : Batch 2de7bdef-30cf-417a-8dfd-3dc1fb8dc3dd status is COMPLETED\n",
      "info  : Results will be stored in directory 2de7bdef-30cf-417a-8dfd-3dc1fb8dc3dd\n",
      "info  : Downloading solutionbatch.sol...\n",
      "info  : Downloading gurobi.log...\n",
      "info  : Discarding batch data\n"
     ]
    }
   ],
   "source": [
    "# You can actually use grbcluster to perform all three steps in a single command\n",
    "!grbcluster batch solve ResultFile=solutionbatch.sol ~/CompassTraining/grb_rs/p0033.mps --download"
   ]
  },
  {
   "cell_type": "code",
   "execution_count": 58,
   "id": "66716870",
   "metadata": {
    "collapsed": true
   },
   "outputs": [
    {
     "name": "stdout",
     "output_type": "stream",
     "text": [
      "# Solution for model P0033\r\n",
      "# Objective value = 3089\r\n",
      "C157 1\r\n",
      "C158 0\r\n",
      "C159 0\r\n",
      "C160 0\r\n",
      "C161 0\r\n",
      "C162 0\r\n",
      "C163 1\r\n",
      "C164 1\r\n",
      "C165 0\r\n",
      "C166 1\r\n",
      "C167 0\r\n",
      "C168 0\r\n",
      "C169 0\r\n",
      "C170 1\r\n",
      "C171 0\r\n",
      "C172 0\r\n",
      "C173 0\r\n",
      "C174 1\r\n",
      "C175 0\r\n",
      "C176 0\r\n",
      "C177 1\r\n",
      "C178 1\r\n",
      "C179 0\r\n",
      "C180 1\r\n",
      "C181 1\r\n",
      "C182 1\r\n",
      "C183 1\r\n",
      "C184 1\r\n",
      "C185 1\r\n",
      "C186 1\r\n",
      "C187 0\r\n",
      "C188 0\r\n",
      "C189 0\r\n"
     ]
    }
   ],
   "source": [
    "cat ~/2de7bdef-30cf-417a-8dfd-3dc1fb8dc3dd/solutionbatch.sol"
   ]
  },
  {
   "cell_type": "code",
   "execution_count": 60,
   "id": "cdf2251c",
   "metadata": {},
   "outputs": [
    {
     "name": "stdout",
     "output_type": "stream",
     "text": [
      "fatal : Operation not allowed for a batch in state COMPLETED\r\n"
     ]
    }
   ],
   "source": [
    "# You can  retry job if it failed \n",
    "!grbcluster batch retry 14a622e2-e58b-4674-bfa6-d7d06160a751"
   ]
  },
  {
   "cell_type": "markdown",
   "id": "eda23de6",
   "metadata": {},
   "source": [
    "## Repository Commands\n",
    "The file repository is a feature of the Cluster Manager that allows you to store and share Gurobi\n",
    "files (models, solution parameters etc.). The main use is to store models so they can be reused\n",
    "later in different batch configurations."
   ]
  },
  {
   "cell_type": "code",
   "execution_count": 63,
   "id": "91071895",
   "metadata": {},
   "outputs": [
    {
     "name": "stdout",
     "output_type": "stream",
     "text": [
      "info  : Object 64c46127-23af-487f-b801-66efd22ba106 created, upload done in container 'training'\r\n"
     ]
    }
   ],
   "source": [
    "!grbcluster repo upload p0033.mps --container=training"
   ]
  },
  {
   "cell_type": "code",
   "execution_count": 65,
   "id": "7a0abafb",
   "metadata": {},
   "outputs": [
    {
     "name": "stdout",
     "output_type": "stream",
     "text": [
      "info  : Batch 234c92b5-8775-4909-a7b9-1ac1bb2e136f created\n",
      "info  : Batch 234c92b5-8775-4909-a7b9-1ac1bb2e136f submitted with job bf501ad6-3a60-4842-be30-fa909c2a803f\n"
     ]
    }
   ],
   "source": [
    "!grbcluster batch solve @training/p0033.mps ResultFile=solutionrepo.sol Threads=1"
   ]
  },
  {
   "cell_type": "code",
   "execution_count": 68,
   "id": "fae9156d",
   "metadata": {},
   "outputs": [
    {
     "name": "stdout",
     "output_type": "stream",
     "text": [
      "fatal : Object is in use by [234c92b5-8775-4909-a7b9-1ac1bb2e136f]\r\n"
     ]
    }
   ],
   "source": [
    "!grbcluster repo delete @training/p0033.mps"
   ]
  },
  {
   "cell_type": "markdown",
   "id": "a7a03136",
   "metadata": {},
   "source": [
    "## Node Commands\n",
    "In this section, we will review the most important commands to monitor the cluster."
   ]
  },
  {
   "cell_type": "code",
   "execution_count": 69,
   "id": "5432f7d0",
   "metadata": {},
   "outputs": [
    {
     "name": "stdout",
     "output_type": "stream",
     "text": [
      "ID       ADDRESS              STATUS TYPE    LICENSE PROCESSING #Q #R JL IDLE %MEM  %CPU  \r\n",
      "59ab8a0c 192.168.3.117:61000  ALIVE  COMPUTE VALID   ACCEPTING  0  0  2  24m  2.34  0.12  \r\n",
      "d4e891a7 192.168.60.154:61000 ALIVE  COMPUTE VALID   ACCEPTING  0  0  2  4m   2.35  0.06  \r\n"
     ]
    }
   ],
   "source": [
    "!grbcluster nodes\n"
   ]
  },
  {
   "cell_type": "code",
   "execution_count": 70,
   "id": "1ccadd4e",
   "metadata": {
    "collapsed": true
   },
   "outputs": [
    {
     "name": "stdout",
     "output_type": "stream",
     "text": [
      "ID        - Unique node ID, use --long to display full ID\r\n",
      "ADDRESS   - Node address\r\n",
      "STATUS    - Node status (ALIVE, FAILED, JOINING, LEAVING, DEGRADED)\r\n",
      "TYPE      - Node type (COMPUTE: Compute Server, WORKER: Distributed Worker)\r\n",
      "GRP       - Group name for job affinity (not displayed if empty or restricted)\r\n",
      "LICENSE   - License status (N/A, VALID, INVALID, EXPIRED)\r\n",
      "PROCESSING- Processing state (ACCEPTING, DRAINING, STOPPED)\r\n",
      "#Q        - Number of jobs in queue\r\n",
      "#R        - Number of jobs running\r\n",
      "JL        - Job Limit (maximum number of running jobs)\r\n",
      "IDLE      - Idle time since the last job execution (in minutes)\r\n",
      "%MEM      - Percentage of memory currently used on the machine\r\n",
      "%CPU      - Percentage of CPU currently used on the machine\r\n",
      "STARTED   - Node start time, use --long\r\n",
      "RUNTIMES  - Deployed runtime versions, use --long\r\n",
      "VERSION   - Remote Services Agent version, use --long\r\n"
     ]
    }
   ],
   "source": [
    "!grbcluster nodes --describe"
   ]
  },
  {
   "cell_type": "code",
   "execution_count": 79,
   "id": "6667ed49",
   "metadata": {},
   "outputs": [
    {
     "name": "stdout",
     "output_type": "stream",
     "text": [
      "info  : Found matching node 192.168.60.154:61000\r\n"
     ]
    }
   ],
   "source": [
    "# Each node of a Remote Services has a job limit, which indicates the maximum number of jobs that\n",
    "can be run simultaneously on that node.\n",
    "!grbcluster node config --job-limit=2 --server=d4e891a7 "
   ]
  },
  {
   "cell_type": "markdown",
   "id": "7bc5f5e5",
   "metadata": {},
   "source": [
    "### Troubleshooting Connectivity Issues"
   ]
  },
  {
   "cell_type": "code",
   "execution_count": 72,
   "id": "f5f07c74",
   "metadata": {},
   "outputs": [
    {
     "name": "stdout",
     "output_type": "stream",
     "text": [
      "ADDRESS              LATENCY NBERR\r\n",
      "192.168.3.117:61000  5.557ms 0\r\n",
      "192.168.60.154:61000 4.660ms 0\r\n"
     ]
    }
   ],
   "source": [
    "!grbcluster node latency"
   ]
  },
  {
   "cell_type": "code",
   "execution_count": 76,
   "id": "6dbbf0a1",
   "metadata": {},
   "outputs": [
    {
     "name": "stdout",
     "output_type": "stream",
     "text": [
      "ADDRESS   - Node address\r\n",
      "LATENCY   - Latency between the local client and a node\r\n",
      "NBERR     - Number of errors\r\n"
     ]
    }
   ],
   "source": [
    "!grbcluster node latency --describe"
   ]
  },
  {
   "cell_type": "code",
   "execution_count": 75,
   "id": "6be200c1",
   "metadata": {},
   "outputs": [
    {
     "name": "stdout",
     "output_type": "stream",
     "text": [
      "info  : Found matching node 192.168.3.117:61000\r\n",
      "Node is reachable\r\n"
     ]
    }
   ],
   "source": [
    "!grbcluster node ping --server=59ab8a0c "
   ]
  },
  {
   "cell_type": "code",
   "execution_count": 77,
   "id": "6d9c27b9",
   "metadata": {},
   "outputs": [
    {
     "name": "stdout",
     "output_type": "stream",
     "text": [
      "ID       ADDRESS              STATUS TYPE       EXP        VER CS    DL  ERROR\r\n",
      "d4e891a7 192.168.60.154:61000 VALID  WEBFLOATCS 0          0   true  0   \r\n",
      "59ab8a0c 192.168.3.117:61000  VALID  WEBFLOATCS 0          0   true  0   \r\n"
     ]
    }
   ],
   "source": [
    "!grbcluster node licenses"
   ]
  },
  {
   "cell_type": "markdown",
   "id": "d66f904d",
   "metadata": {},
   "source": []
  },
  {
   "cell_type": "code",
   "execution_count": null,
   "id": "b3997cbc",
   "metadata": {},
   "outputs": [],
   "source": []
  }
 ],
 "metadata": {
  "kernelspec": {
   "display_name": "Python 3 (ipykernel)",
   "language": "python",
   "name": "python3"
  },
  "language_info": {
   "codemirror_mode": {
    "name": "ipython",
    "version": 3
   },
   "file_extension": ".py",
   "mimetype": "text/x-python",
   "name": "python",
   "nbconvert_exporter": "python",
   "pygments_lexer": "ipython3",
   "version": "3.8.15 (default, Nov 24 2022, 14:38:14) [MSC v.1916 64 bit (AMD64)]"
  },
  "vscode": {
   "interpreter": {
    "hash": "072a5fbe287c1f10b8e779418b27af57b50addb2f763e349b0044baa46fc9f3e"
   }
  }
 },
 "nbformat": 4,
 "nbformat_minor": 5
}
