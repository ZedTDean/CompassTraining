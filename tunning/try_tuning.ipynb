{
 "cells": [
  {
   "cell_type": "markdown",
   "id": "a5a30cb6",
   "metadata": {},
   "source": [
    "# Welcome to Performance Tuning : Manual tuning \n",
    "Using MIPLIB 2010 models in shared_data_folder/day3-Tuning/data"
   ]
  },
  {
   "cell_type": "code",
   "execution_count": 1,
   "id": "0130fb07",
   "metadata": {},
   "outputs": [],
   "source": [
    "import gurobipy as gp"
   ]
  },
  {
   "cell_type": "markdown",
   "id": "52ed5ecf",
   "metadata": {},
   "source": [
    "### Instructions\n",
    "\n",
    "- Please use only use 4 Threads, as we are sharing resources on the servers\n",
    "- Use multiple seeds to check for performance variability\n",
    "- Consider changing the filename for each parameter change so you can compare your results"
   ]
  },
  {
   "cell_type": "markdown",
   "id": "f6a3cbab",
   "metadata": {},
   "source": [
    "### glass4"
   ]
  },
  {
   "cell_type": "code",
   "execution_count": null,
   "id": "a181d37e",
   "metadata": {},
   "outputs": [],
   "source": [
    "for seed in range(3):\n",
    "    with gp.Env(\"glass4_mipfocus3_th4_s\"+str(seed)+\".log\") as env :\n",
    "        with gp.read(\"shared_data_folder/day3-Tuning/data/glass4\", env=env) as m:\n",
    "            m.params.threads=4\n",
    "            m.params.mipfocus=3\n",
    "            m.optimize()"
   ]
  },
  {
   "cell_type": "markdown",
   "id": "feb82c52",
   "metadata": {},
   "source": [
    "### a1c1s1"
   ]
  },
  {
   "cell_type": "code",
   "execution_count": null,
   "id": "9a49a249",
   "metadata": {},
   "outputs": [],
   "source": [
    "for seed in range(3):\n",
    "    with gp.Env(\"a1c1s1_base_th4_s\"+str(seed)+\".log\") as env :\n",
    "        with gp.read(\"shared_data_folder/day3-Tuning/data/a1c1s1\", env=env) as m:\n",
    "            m.params.threads=4\n",
    "            m.optimize()"
   ]
  },
  {
   "cell_type": "markdown",
   "id": "a732cf95",
   "metadata": {},
   "source": [
    "### aflow40b"
   ]
  },
  {
   "cell_type": "code",
   "execution_count": null,
   "id": "38fcbfe6",
   "metadata": {},
   "outputs": [],
   "source": [
    "for seed in range(3):\n",
    "    with gp.Env(\"aflow40b_base_th4_s\"+str(seed)+\".log\") as env : \n",
    "        with gp.read(\"shared_data_folder/day3-Tuning/data/aflow40b\", env=env) as m:\n",
    "            m.params.threads=4\n",
    "            m.optimize()"
   ]
  },
  {
   "cell_type": "markdown",
   "id": "e36ef5dd",
   "metadata": {},
   "source": [
    "### map14"
   ]
  },
  {
   "cell_type": "code",
   "execution_count": null,
   "id": "a923a468",
   "metadata": {},
   "outputs": [],
   "source": [
    "for seed in range(3):\n",
    "    with gp.Env(\"map14_base_th4_s\"+str(seed)+\".log\") as env :\n",
    "        with gp.read(\"shared_data_folder/day3-Tuning/data/map14\", env=env) as m:\n",
    "            m.params.threads=4\n",
    "            m.optimize()"
   ]
  },
  {
   "cell_type": "markdown",
   "id": "0a892e23",
   "metadata": {},
   "source": [
    "### map20"
   ]
  },
  {
   "cell_type": "code",
   "execution_count": null,
   "id": "6ff9f46a",
   "metadata": {},
   "outputs": [],
   "source": [
    "for seed in range(3):\n",
    "    with gp.Env(\"map20_base_th4_s\"+str(seed)+\".log\") as env :\n",
    "        with gp.read(\"shared_data_folder/day3-Tuning/data/map20\", env=env) as m:\n",
    "            m.params.threads=4\n",
    "            m.optimize()"
   ]
  },
  {
   "cell_type": "code",
   "execution_count": null,
   "id": "86c0d7e7",
   "metadata": {},
   "outputs": [],
   "source": []
  }
 ],
 "metadata": {
  "kernelspec": {
   "display_name": "Python 3 (ipykernel)",
   "language": "python",
   "name": "python3"
  },
  "language_info": {
   "codemirror_mode": {
    "name": "ipython",
    "version": 3
   },
   "file_extension": ".py",
   "mimetype": "text/x-python",
   "name": "python",
   "nbconvert_exporter": "python",
   "pygments_lexer": "ipython3",
   "version": "3.10.6"
  }
 },
 "nbformat": 4,
 "nbformat_minor": 5
}
