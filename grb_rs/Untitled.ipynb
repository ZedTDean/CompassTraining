{
 "cells": [
  {
   "cell_type": "code",
   "execution_count": 1,
   "id": "93379603",
   "metadata": {},
   "outputs": [
    {
     "name": "stderr",
     "output_type": "stream",
     "text": [
      "'pwd' is not recognized as an internal or external command,\n",
      "operable program or batch file.\n"
     ]
    }
   ],
   "source": [
    "!pwd"
   ]
  },
  {
   "cell_type": "code",
   "execution_count": 2,
   "id": "ca2d3681",
   "metadata": {},
   "outputs": [
    {
     "name": "stdout",
     "output_type": "stream",
     "text": [
      " Volume in drive C is Local Disk\n",
      " Volume Serial Number is 6C43-48F3\n",
      "\n",
      " Directory of C:\\Users\\dean\\source\\repos\\dean\\CompassTraining\\grb_rs\n",
      "\n",
      "2023-01-29  02:54 PM    <DIR>          .\n",
      "2023-01-29  01:17 PM    <DIR>          ..\n",
      "2023-01-29  02:54 PM    <DIR>          .ipynb_checkpoints\n",
      "2023-01-29  01:18 PM               289 DemosManager.lic\n",
      "2023-01-29  02:54 PM                72 Untitled.ipynb\n",
      "               2 File(s)            361 bytes\n",
      "               3 Dir(s)  49,158,328,320 bytes free\n"
     ]
    }
   ],
   "source": [
    " !dir"
   ]
  },
  {
   "cell_type": "code",
   "execution_count": null,
   "id": "26c9a090",
   "metadata": {},
   "outputs": [],
   "source": [
    "! git pull https://github.com/ZedTDean/CompassTraining.git"
   ]
  },
  {
   "cell_type": "code",
   "execution_count": null,
   "id": "8bbf7b87",
   "metadata": {},
   "outputs": [],
   "source": [
    "!export GRB_LICENSE_FILE=\"/home/dean/CompassTraining/grb_rs/DemosManager.lic\""
   ]
  },
  {
   "cell_type": "code",
   "execution_count": null,
   "id": "a05fddce",
   "metadata": {},
   "outputs": [],
   "source": [
    "!export GRB_LICENSE_FILE=\"/opt/gurobi/gurobi.lic"
   ]
  },
  {
   "cell_type": "code",
   "execution_count": null,
   "id": "d4b5d3af",
   "metadata": {},
   "outputs": [],
   "source": [
    "!printenv GRB_LICENSE_FILE"
   ]
  },
  {
   "cell_type": "code",
   "execution_count": null,
   "id": "0e519d20",
   "metadata": {},
   "outputs": [],
   "source": [
    "!grbcluster login --manager=https://demos-manager.gurobi.com --username=dean"
   ]
  },
  {
   "cell_type": "code",
   "execution_count": 3,
   "id": "8eab6a2e",
   "metadata": {},
   "outputs": [
    {
     "name": "stdout",
     "output_type": "stream",
     "text": [
      "info  : Using client license file 'c:\\gurobi\\gurobi.lic'\n",
      "info  : User dean connected to https://demos-manager.gurobi.com\n"
     ]
    }
   ],
   "source": [
    "!grbcluster login --manager=https://demos-manager.gurobi.com --access=e41c4ff4-4322-4218-a52b-f82047083523 --secret=e62cc65e-2b26-4726-8a2a-2a2fe77157ec"
   ]
  },
  {
   "cell_type": "code",
   "execution_count": 5,
   "id": "a688163e",
   "metadata": {},
   "outputs": [
    {
     "name": "stdout",
     "output_type": "stream",
     "text": [
      "Gurobi Optimizer version 10.0.0 build v10.0.0rc2 (win64)\n",
      "Copyright (c) 2022, Gurobi Optimization, LLC\n"
     ]
    }
   ],
   "source": [
    "! gurobi_cl --version"
   ]
  },
  {
   "cell_type": "code",
   "execution_count": null,
   "id": "3aa649a2",
   "metadata": {},
   "outputs": [],
   "source": []
  }
 ],
 "metadata": {
  "kernelspec": {
   "display_name": "Python 3 (ipykernel)",
   "language": "python",
   "name": "python3"
  },
  "language_info": {
   "codemirror_mode": {
    "name": "ipython",
    "version": 3
   },
   "file_extension": ".py",
   "mimetype": "text/x-python",
   "name": "python",
   "nbconvert_exporter": "python",
   "pygments_lexer": "ipython3",
   "version": "3.9.16"
  }
 },
 "nbformat": 4,
 "nbformat_minor": 5
}
