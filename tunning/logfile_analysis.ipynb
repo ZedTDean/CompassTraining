{
 "cells": [
  {
   "cell_type": "markdown",
   "id": "f92853c6",
   "metadata": {},
   "source": [
    "# Welcome to Performance Tuning :  Log file analysis exercise\n",
    "Using MIPLIB 2010 model glass4 in shared_data_folder/day3-Tuning/data"
   ]
  },
  {
   "cell_type": "code",
   "execution_count": null,
   "id": "dde0007d",
   "metadata": {},
   "outputs": [],
   "source": [
    "import gurobipy as gp"
   ]
  },
  {
   "cell_type": "markdown",
   "id": "d9229dfe",
   "metadata": {},
   "source": [
    "### Lesson 1 Instructions\n",
    "\n",
    "- Compare using default threads (16), 8 and 4 threads on model glass4"
   ]
  },
  {
   "cell_type": "code",
   "execution_count": null,
   "id": "6d713865",
   "metadata": {},
   "outputs": [],
   "source": [
    "with gp.Env(\"glass4_base.log\") as env :\n",
    "    with gp.read(\"shared_data_folder/day3-Tuning/data/glass4\", env=env) as m:\n",
    "        m.optimize()"
   ]
  },
  {
   "cell_type": "code",
   "execution_count": null,
   "id": "b3b8b4e3",
   "metadata": {},
   "outputs": [],
   "source": [
    "with gp.Env(empty=True) as env :\n",
    "    env.setParam(\"Logfile\",\"glass4_th8.log\")\n",
    "    env.setParam(\"Threads\", 8)\n",
    "    env.start()\n",
    "    with gp.read(\"shared_data_folder/day3-Tuning/data/glass4\", env=env) as m:\n",
    "        m.optimize()"
   ]
  },
  {
   "cell_type": "code",
   "execution_count": null,
   "id": "21e828e5",
   "metadata": {},
   "outputs": [],
   "source": [
    "with gp.Env(empty=True) as env :\n",
    "    env.setParam(\"Logfile\",\"glass4_th4.log\")\n",
    "    env.setParam(\"Threads\", 4)\n",
    "    env.start()\n",
    "    with gp.read(\"shared_data_folder/day3-Tuning/data/glass4\", env=env) as m:\n",
    "        m.optimize()"
   ]
  },
  {
   "cell_type": "markdown",
   "id": "9855185a",
   "metadata": {},
   "source": [
    "#### Compare log files \n",
    "\n",
    "- Review each log file, glass4_base.log, glass4_th8.log, and glass4_th4.log\n",
    "- Share what you notice is difference between each log file "
   ]
  },
  {
   "cell_type": "markdown",
   "id": "ce628730",
   "metadata": {},
   "source": [
    "- From the logs what algorithms do you think are taking the most time?\n",
    "- We'll review the job overview charts on the server"
   ]
  }
 ],
 "metadata": {
  "kernelspec": {
   "display_name": "Python 3 (ipykernel)",
   "language": "python",
   "name": "python3"
  },
  "language_info": {
   "codemirror_mode": {
    "name": "ipython",
    "version": 3
   },
   "file_extension": ".py",
   "mimetype": "text/x-python",
   "name": "python",
   "nbconvert_exporter": "python",
   "pygments_lexer": "ipython3",
   "version": "3.10.6"
  }
 },
 "nbformat": 4,
 "nbformat_minor": 5
}
