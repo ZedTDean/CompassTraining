{
 "cells": [
  {
   "cell_type": "markdown",
   "id": "f92853c6",
   "metadata": {},
   "source": [
    "# Welcome to Performance Tuning :  Log file analysis exercise\n",
    "Using MIPLIB 2010 model glass4 in shared_data_folder/day3-Tuning/data"
   ]
  },
  {
   "cell_type": "code",
   "execution_count": null,
   "id": "dde0007d",
   "metadata": {},
   "outputs": [],
   "source": [
    "import gurobipy as gp"
   ]
  },
  {
   "cell_type": "markdown",
   "id": "fa270f5a",
   "metadata": {},
   "source": [
    "\n",
    "\n",
    "\n",
    "\n",
    "\n",
    "### Kickoff an automated tuning glass4\n",
    "\n",
    "- Run the Gurobi tuning tool from the Python API\n",
    "- Tuner is also available from the command line, grbtune"
   ]
  },
  {
   "cell_type": "code",
   "execution_count": null,
   "id": "4865125a",
   "metadata": {},
   "outputs": [],
   "source": [
    "with gp.Env() as env :\n",
    "    with gp.read(\"shared_data_folder/day3-Tuning/data/glass4\", env=env) as m:\n",
    "        m.params.threads=4\n",
    "        m.params.tunetrials=3\n",
    "        m.params.logfile=\"glass4_tune.log\"\n",
    "        m.tune()"
   ]
  },
  {
   "cell_type": "code",
   "execution_count": null,
   "id": "6fe9dbe5",
   "metadata": {},
   "outputs": [],
   "source": []
  }
 ],
 "metadata": {
  "kernelspec": {
   "display_name": "Python 3 (ipykernel)",
   "language": "python",
   "name": "python3"
  },
  "language_info": {
   "codemirror_mode": {
    "name": "ipython",
    "version": 3
   },
   "file_extension": ".py",
   "mimetype": "text/x-python",
   "name": "python",
   "nbconvert_exporter": "python",
   "pygments_lexer": "ipython3",
   "version": "3.10.6"
  }
 },
 "nbformat": 4,
 "nbformat_minor": 5
}
